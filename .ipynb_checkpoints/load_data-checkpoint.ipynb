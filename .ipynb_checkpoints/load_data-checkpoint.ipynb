{
 "cells": [
  {
   "cell_type": "code",
   "execution_count": 44,
   "id": "billion-family",
   "metadata": {},
   "outputs": [],
   "source": [
    "import cx_Oracle\n",
    "import pandas as pd"
   ]
  },
  {
   "cell_type": "code",
   "execution_count": 45,
   "id": "israeli-favorite",
   "metadata": {},
   "outputs": [],
   "source": [
    "df = pd.read_excel(\"FINAL_LIMS_MGBBIOBANK1411.xlsx\", sheet_name=None)[\"Sheet1\"]"
   ]
  },
  {
   "cell_type": "code",
   "execution_count": 46,
   "id": "recognized-childhood",
   "metadata": {},
   "outputs": [],
   "source": [
    "df[\"Collection Date\"] = df[\"Collection Date\"].astype(str)\n",
    "df[\"FILENAME\"] = \"FINAL_LIMS_MGBBIOBANK1411.xlsx\"\n",
    "df[\"ID\"] = df.index\n",
    "df[\"ID\"] = df[\"ID\"].astype(str)\n",
    "df[\" Cust. Subj.\"] = df[\" Cust. Subj.\"].astype(str)\n",
    "df[\"Gender\"] = df[\"Gender\"].fillna(\"U\")"
   ]
  },
  {
   "cell_type": "code",
   "execution_count": 47,
   "id": "former-ready",
   "metadata": {
    "scrolled": true
   },
   "outputs": [],
   "source": [
    "df.rename(columns=\n",
    "          {\"MGBbiobank Request ID\": \"MGBBIOBANK_REQUEST_ID\", \n",
    "           \"Lab ID\": \"LAB_ID\", \n",
    "           \" Inv. Code\": \"INV_CODE\",\n",
    "           \" Cust. Subj.\": \"CUST_SUBJ\",\n",
    "           \" Sample Type\": \"SAMPLE_TYPE\",\n",
    "           \" Volume\": \"VOL\",\n",
    "           \" Box\": \"BOX\",\n",
    "           \"Box Name\": \"BOX_NAME\",\n",
    "           \" Slot\": \"SLOT\",\n",
    "           \"Collection Date\": \"COLLECTION_DATE\",\n",
    "           \"Gender\": \"GENDER\",\n",
    "           \"plasma_count\": \"PLASMA_COUNT\",\n",
    "           \"Covid_Positive\": \"COVID_POSITIVE\"\n",
    "          }, inplace=True)"
   ]
  },
  {
   "cell_type": "code",
   "execution_count": 48,
   "id": "instrumental-lithuania",
   "metadata": {},
   "outputs": [],
   "source": [
    "data = df.to_dict(\"records\")"
   ]
  },
  {
   "cell_type": "code",
   "execution_count": 52,
   "id": "developmental-senate",
   "metadata": {},
   "outputs": [],
   "source": [
    "dsn = cx_Oracle.makedsn(host='oar1dev.bwh.harvard.edu', port=1521, sid='sggtest8')\n",
    "connection = cx_Oracle.connect(user=\"external_rw\", password=\"external_rw\", dsn=dsn)\n",
    "cursor = connection.cursor()"
   ]
  },
  {
   "cell_type": "code",
   "execution_count": 50,
   "id": "through-processor",
   "metadata": {
    "scrolled": false
   },
   "outputs": [],
   "source": [
    "# cursor.execute(\"select * from MGB_BIOBANK\")\n",
    "# for column in cursor.description:\n",
    "#     print(column)"
   ]
  },
  {
   "cell_type": "code",
   "execution_count": 53,
   "id": "celtic-athens",
   "metadata": {},
   "outputs": [],
   "source": [
    "# load data into table\n",
    "cursor.executemany(\"insert into MGB_BIOBANK (MGBBIOBANK_REQUEST_ID, LAB_ID, INV_CODE, CUST_SUBJ, SAMPLE_TYPE, VOL, BOX, BOX_NAME, SLOT, COLLECTION_DATE, GENDER, PLASMA_COUNT, COVID_POSITIVE, FILENAME, ID) values (:MGBBIOBANK_REQUEST_ID, :LAB_ID, :INV_CODE, :CUST_SUBJ, :SAMPLE_TYPE, :VOL, :BOX, :BOX_NAME, :SLOT, :COLLECTION_DATE, :GENDER, :PLASMA_COUNT, :COVID_POSITIVE, :FILENAME, :ID)\",\n",
    "              data)"
   ]
  },
  {
   "cell_type": "code",
   "execution_count": null,
   "id": "southwest-glance",
   "metadata": {},
   "outputs": [],
   "source": [
    "# delete all data from table\n",
    "#cursor.execute(\"DELETE FROM MGB_BIOBANK WHERE MGBBIOBANK_REQUEST_ID=1411\")"
   ]
  },
  {
   "cell_type": "code",
   "execution_count": null,
   "id": "prescription-brand",
   "metadata": {},
   "outputs": [],
   "source": [
    "for row in cursor.execute(\"select * from external_data.MGB_BIOBANK\"):\n",
    "    #print(row)"
   ]
  },
  {
   "cell_type": "code",
   "execution_count": 54,
   "id": "breeding-tuition",
   "metadata": {},
   "outputs": [],
   "source": [
    "# if not commited, transaction will be rolled back\n",
    "#connection.commit()\n",
    "connection.close()"
   ]
  }
 ],
 "metadata": {
  "kernelspec": {
   "display_name": "local-env",
   "language": "python",
   "name": "local-env"
  },
  "language_info": {
   "codemirror_mode": {
    "name": "ipython",
    "version": 3
   },
   "file_extension": ".py",
   "mimetype": "text/x-python",
   "name": "python",
   "nbconvert_exporter": "python",
   "pygments_lexer": "ipython3",
   "version": "3.9.7"
  }
 },
 "nbformat": 4,
 "nbformat_minor": 5
}
